{
 "cells": [
  {
   "cell_type": "code",
   "execution_count": 2,
   "id": "17167bec-fc5f-4741-9eef-a0e9357e2905",
   "metadata": {},
   "outputs": [],
   "source": [
    "from sklearn.datasets import fetch_california_housing as fch\n",
    "from sklearn.model_selection import train_test_split\n",
    "from sklearn.neural_network import MLPRegressor\n",
    "from sklearn.metrics import mean_squared_error\n",
    "from sklearn.pipeline import make_pipeline\n",
    "from sklearn.preprocessing import StandardScaler\n",
    "import tensorflow as tf"
   ]
  },
  {
   "cell_type": "code",
   "execution_count": 7,
   "id": "738e06e4-43cb-4fc6-8722-626e1721c7b8",
   "metadata": {
    "jp-MarkdownHeadingCollapsed": true
   },
   "outputs": [
    {
     "name": "stdout",
     "output_type": "stream",
     "text": [
      "--------------------------------------------------------------------\n",
      "0.5617361256323348\n"
     ]
    },
    {
     "name": "stderr",
     "output_type": "stream",
     "text": [
      "C:\\Users\\dhruv\\AppData\\Local\\Programs\\Python\\Python311\\Lib\\site-packages\\sklearn\\neural_network\\_multilayer_perceptron.py:691: ConvergenceWarning: Stochastic Optimizer: Maximum iterations (200) reached and the optimization hasn't converged yet.\n",
      "  warnings.warn(\n",
      "C:\\Users\\dhruv\\AppData\\Local\\Programs\\Python\\Python311\\Lib\\site-packages\\sklearn\\metrics\\_regression.py:483: FutureWarning: 'squared' is deprecated in version 1.4 and will be removed in 1.6. To calculate the root mean squared error, use the function'root_mean_squared_error'.\n",
      "  warnings.warn(\n"
     ]
    }
   ],
   "source": [
    "housing=fch()\n",
    "# print(housing)\n",
    "print(\"--------------------------------------------------------------------\")\n",
    "X_train_full,X_test,Y_train_full,Y_test=train_test_split(housing.data,housing.target,random_state=42)\n",
    "X_train,X_valid,Y_train,Y_valid=train_test_split(X_train_full,Y_train_full,random_state=42)\n",
    "mlpReg=MLPRegressor(hidden_layer_sizes=[8,4,2],random_state=42)\n",
    "pipeline=make_pipeline(StandardScaler(),mlpReg)\n",
    "pipeline.fit(X_train,Y_train)\n",
    "y_pred=pipeline.predict(X_valid)\n",
    "RMSE=mean_squared_error(Y_valid,y_pred,squared=False)\n",
    "print(RMSE)"
   ]
  }
 ],
 "metadata": {
  "kernelspec": {
   "display_name": "Python 3 (ipykernel)",
   "language": "python",
   "name": "python3"
  },
  "language_info": {
   "codemirror_mode": {
    "name": "ipython",
    "version": 3
   },
   "file_extension": ".py",
   "mimetype": "text/x-python",
   "name": "python",
   "nbconvert_exporter": "python",
   "pygments_lexer": "ipython3",
   "version": "3.11.4"
  }
 },
 "nbformat": 4,
 "nbformat_minor": 5
}
