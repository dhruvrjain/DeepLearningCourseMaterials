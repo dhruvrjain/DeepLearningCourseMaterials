{
 "cells": [
  {
   "cell_type": "code",
   "execution_count": 2,
   "id": "ea9fd03f-5139-4002-95df-c87693395110",
   "metadata": {},
   "outputs": [],
   "source": [
    "import numpy as np\n",
    "import matplotlib.pyplot as plt\n",
    "from sklearn import datasets\n",
    "from sklearn.metrics import accuracy_score\n",
    "from sklearn.model_selection import train_test_split\n",
    "from sklearn.svm import SVC\n",
    "import pandas as pd"
   ]
  },
  {
   "cell_type": "code",
   "execution_count": 30,
   "id": "abe9a69b-0217-4cc1-9941-cba2fb784a2d",
   "metadata": {},
   "outputs": [
    {
     "name": "stdout",
     "output_type": "stream",
     "text": [
      "Total number of cases: 100 \n",
      "\n",
      "First 10 cases of X and Y: \n",
      "\n",
      "[[1.4 0.2]\n",
      " [1.4 0.2]\n",
      " [1.3 0.2]\n",
      " [1.5 0.2]\n",
      " [1.4 0.2]\n",
      " [1.7 0.4]\n",
      " [1.4 0.3]\n",
      " [1.5 0.2]\n",
      " [1.4 0.2]\n",
      " [1.5 0.1]]\n",
      "0    0\n",
      "1    0\n",
      "2    0\n",
      "3    0\n",
      "4    0\n",
      "5    0\n",
      "6    0\n",
      "7    0\n",
      "8    0\n",
      "9    0\n",
      "Name: target, dtype: int32\n",
      "\n",
      "Attributes of X: ['sepal length (cm)', 'sepal width (cm)', 'petal length (cm)', 'petal width (cm)'] \n",
      "\n",
      "Mean of each attribute: \n",
      "sepal length (cm)    5.843333\n",
      "sepal width (cm)     3.057333\n",
      "petal length (cm)    3.758000\n",
      "petal width (cm)     1.199333\n",
      "dtype: float64 \n",
      "\n",
      "Standard deviation of each attribute: \n",
      "sepal length (cm)    0.828066\n",
      "sepal width (cm)     0.435866\n",
      "petal length (cm)    1.765298\n",
      "petal width (cm)     0.762238\n",
      "dtype: float64 \n",
      "\n",
      "Accuracy Score for Class prediction of sample data: 0.95 \n",
      "\n"
     ]
    }
   ],
   "source": [
    "# Loading the iris dataset and splitting the features and targetsfrom the dataset\n",
    "iris=datasets.load_iris(as_frame=True)\n",
    "X=iris.data[[\"petal length (cm)\",\"petal width (cm)\"]].values\n",
    "Y=iris.target\n",
    "setosaOrVersicolorOnly = (Y==0) | (Y==1)\n",
    "X=X[setosaOrVersicolorOnly]\n",
    "Y=Y[setosaOrVersicolorOnly]\n",
    "\n",
    "print(f\"Total number of cases: {len(X)} \\n\")\n",
    "\n",
    "print(\"First 10 cases of X and Y: \\n\")\n",
    "\n",
    "print(X[:10]) # First 10 cases of X\n",
    "print(Y[:10]) # First 10 cases of Y\n",
    "print()\n",
    "\n",
    "print(f\"Attributes of X: {iris.feature_names} \\n\")\n",
    "\n",
    "print(f\"Mean of each attribute: \\n{iris.data.mean()} \\n\")\n",
    "print(f\"Standard deviation of each attribute: \\n{iris.data.std()} \\n\")\n",
    "\n",
    "# Initializing the SVC with the 'linear' kernel\n",
    "svcCLF=SVC(kernel='linear',random_state=42)\n",
    "\n",
    "# Splitting the dataset into training set and test set\n",
    "XTrain,XTest,YTrain,YTest=train_test_split(X,Y,test_size=0.2,random_state=42)\n",
    "\n",
    "# Training the Linear SVC\n",
    "svcCLF.fit(XTrain,YTrain)\n",
    "\n",
    "# Initializing Sample data for testing\n",
    "XSamp=[[1.3,0.1],[2.4,0.5],[1.3,0.1],[1.5,.5],[2.4,0.9],[2.9,0.9],[1.3,0.1],[1.5,0.4],[1.6,0.4],[2.8,1.0],[1.6,0.3],[1.2,0.1],[4.5,1.5],[5.6,2.0],[4.3,1.2],[3.9,1.4],[2.4,0.5],[1.3,0.1],[1.5,.5],[2.4,0.9]]\n",
    "YSamp=[0,0,0,0,0,1,0,0,0,1,0,0,1,1,1,1,0,0,0,1]\n",
    "\n",
    "# Predicting the classes for sample data\n",
    "YPred=svcCLF.predict(XSamp)\n",
    "\n",
    "print(f\"Accuracy Score for Class prediction of sample data: {accuracy_score(YPred,YSamp)} \\n\")"
   ]
  }
 ],
 "metadata": {
  "kernelspec": {
   "display_name": "Python 3 (ipykernel)",
   "language": "python",
   "name": "python3"
  },
  "language_info": {
   "codemirror_mode": {
    "name": "ipython",
    "version": 3
   },
   "file_extension": ".py",
   "mimetype": "text/x-python",
   "name": "python",
   "nbconvert_exporter": "python",
   "pygments_lexer": "ipython3",
   "version": "3.11.4"
  }
 },
 "nbformat": 4,
 "nbformat_minor": 5
}
