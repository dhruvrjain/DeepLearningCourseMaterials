{
 "cells": [
  {
   "cell_type": "code",
   "execution_count": 31,
   "id": "3120e258-c846-4ee0-bd1e-30a410b90c2d",
   "metadata": {},
   "outputs": [],
   "source": [
    "from sklearn.datasets import fetch_california_housing as fch\n",
    "from sklearn.metrics import root_mean_squared_error\n",
    "from sklearn.model_selection import train_test_split\n",
    "from sklearn.preprocessing import StandardScaler,MinMaxScaler\n",
    "from sklearn.neural_network import MLPRegressor\n",
    "from sklearn.pipeline import make_pipeline"
   ]
  },
  {
   "cell_type": "code",
   "execution_count": 32,
   "id": "1404ad29-7638-47ce-a882-3b536dd56468",
   "metadata": {},
   "outputs": [
    {
     "name": "stdout",
     "output_type": "stream",
     "text": [
      "RMSE: 0.5174801749893966\n"
     ]
    }
   ],
   "source": [
    "housing = fch()\n",
    "\n",
    "Xtrain,Xtest,Ytrain,Ytest = train_test_split(housing.data,housing.target,test_size = 0.2,random_state = 42)\n",
    "\n",
    "l2Reg = 0.001\n",
    "\n",
    "mlpReg = MLPRegressor(hidden_layer_sizes = [50,50,50],alpha = l2Reg,random_state = 42,max_iter = 10000)\n",
    "\n",
    "pipeline = make_pipeline(StandardScaler(),mlpReg)\n",
    "\n",
    "pipeline.fit(Xtrain,Ytrain)\n",
    "\n",
    "Ypred = pipeline.predict(Xtest)\n",
    "\n",
    "rmse = root_mean_squared_error(Ypred,Ytest)\n",
    "\n",
    "print(f\"RMSE: {rmse}\")"
   ]
  },
  {
   "cell_type": "code",
   "execution_count": 33,
   "id": "8390d450-198d-4b86-bb64-93d7992c08d7",
   "metadata": {},
   "outputs": [
    {
     "name": "stdout",
     "output_type": "stream",
     "text": [
      "No of iterations in training: 329\n"
     ]
    }
   ],
   "source": [
    "print(f\"No of iterations in training: {mlpReg.n_iter_}\")"
   ]
  }
 ],
 "metadata": {
  "kernelspec": {
   "display_name": "Python 3 (ipykernel)",
   "language": "python",
   "name": "python3"
  },
  "language_info": {
   "codemirror_mode": {
    "name": "ipython",
    "version": 3
   },
   "file_extension": ".py",
   "mimetype": "text/x-python",
   "name": "python",
   "nbconvert_exporter": "python",
   "pygments_lexer": "ipython3",
   "version": "3.11.4"
  }
 },
 "nbformat": 4,
 "nbformat_minor": 5
}
